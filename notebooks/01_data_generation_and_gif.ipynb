{
 "cells": [
  {
   "cell_type": "markdown",
   "id": "9473e06b-1362-4119-b5b8-a0147204b15d",
   "metadata": {},
   "source": [
    "### Visualização de Dados Interativa (ou \"Data Storytelling\")"
   ]
  },
  {
   "cell_type": "code",
   "execution_count": 1,
   "id": "1f11f659-4de9-46e7-991f-64a9c49cb66f",
   "metadata": {},
   "outputs": [
    {
     "name": "stdout",
     "output_type": "stream",
     "text": [
      "C:\\Users\\flavi\\Downloads\\Visualização_de_Dados_Interativa_ou_Data_Storytelling\n"
     ]
    }
   ],
   "source": [
    "# Configuração do Ambiente e Importações \n",
    "%cd .."
   ]
  },
  {
   "cell_type": "code",
   "execution_count": 2,
   "id": "708eadb4-b927-47ce-affa-ddda69bd23ea",
   "metadata": {},
   "outputs": [],
   "source": [
    "# Adiciona o diretório 'src' ao PATH para importar config.py.\n",
    "# Usei 'os.getcwd()' para obter o diretório atual (que agora é a raiz do projeto)\n",
    "# e então construi o caminho completo para a pasta 'src'.\n",
    "import os\n",
    "import sys\n",
    "\n",
    "project_root = os.getcwd()\n",
    "src_path = os.path.join(project_root, 'src')"
   ]
  },
  {
   "cell_type": "code",
   "execution_count": 3,
   "id": "2096d47e-f921-4769-a9aa-fdef0374fa20",
   "metadata": {},
   "outputs": [],
   "source": [
    "# Adiciona 'src_path' ao sys.path se ainda não estiver lá\n",
    "if src_path not in sys.path:\n",
    "    sys.path.append(src_path)"
   ]
  },
  {
   "cell_type": "code",
   "execution_count": 4,
   "id": "033e6c2a-f79a-4ffa-9c44-69e34bea4515",
   "metadata": {},
   "outputs": [
    {
     "name": "stdout",
     "output_type": "stream",
     "text": [
      "Caminho para dados: C:\\Users\\flavi\\Downloads\\Visualização_de_Dados_Interativa_ou_Data_Storytelling\\data\n",
      "Caminho para mídia: C:\\Users\\flavi\\Downloads\\Visualização_de_Dados_Interativa_ou_Data_Storytelling\\media\n"
     ]
    }
   ],
   "source": [
    "# Importações necessárias \n",
    "import pandas as pd\n",
    "import numpy as np\n",
    "import matplotlib.pyplot as plt\n",
    "import matplotlib.animation as animation\n",
    "import warnings\n",
    "\n",
    "warnings.filterwarnings('ignore')\n",
    "\n",
    "# Agora que 'src' está no PATH, podemos importar de src.config\n",
    "from config import DATA_DIR, MEDIA_DIR\n",
    "\n",
    "print(f\"Caminho para dados: {DATA_DIR}\")\n",
    "print(f\"Caminho para mídia: {MEDIA_DIR}\")"
   ]
  },
  {
   "cell_type": "code",
   "execution_count": 5,
   "id": "39e1b5cb-d7f0-4fe7-9d82-4e860baacabf",
   "metadata": {},
   "outputs": [
    {
     "name": "stdout",
     "output_type": "stream",
     "text": [
      "Diretório de trabalho atual: C:\\Users\\flavi\\Downloads\\Visualização_de_Dados_Interativa_ou_Data_Storytelling\n"
     ]
    }
   ],
   "source": [
    "# Para verificar o diretório atual\n",
    "print(f\"Diretório de trabalho atual: {os.getcwd()}\")"
   ]
  },
  {
   "cell_type": "code",
   "execution_count": 6,
   "id": "6b4303b2-9755-4563-8836-5c399d53f841",
   "metadata": {},
   "outputs": [
    {
     "name": "stdout",
     "output_type": "stream",
     "text": [
      "Gerando dados simulados...\n"
     ]
    }
   ],
   "source": [
    "# Geração da Base de Dados Simulada \n",
    "print(\"Gerando dados simulados...\")\n",
    "\n",
    "anos = np.arange(2018, 2026)\n",
    "tecnologias = ['Inteligência Artificial (IA)', 'Blockchain', 'Internet das Coisas (IoT)', '5G']\n",
    "data = []"
   ]
  },
  {
   "cell_type": "code",
   "execution_count": 7,
   "id": "98c8c271-8721-45ed-a52a-795e43b458cc",
   "metadata": {},
   "outputs": [],
   "source": [
    "# Sementes para simular diferentes crescimentos\n",
    "np.random.seed(42)\n",
    "\n",
    "for ano in anos:\n",
    "    for tech in tecnologias:\n",
    "        # Simulação de adoção percentual (crescimento ao longo dos anos)\n",
    "        if tech == 'Inteligência Artificial (IA)':\n",
    "            adocao = np.clip(5 + (ano - 2018) * 8 + np.random.normal(0, 3), 0, 100)\n",
    "            investimento = np.clip(100 + (ano - 2018) * 50 + np.random.normal(0, 20), 50, 800)\n",
    "        elif tech == 'Blockchain':\n",
    "            adocao = np.clip(2 + (ano - 2018) * 5 + np.random.normal(0, 2), 0, 100)\n",
    "            investimento = np.clip(50 + (ano - 2018) * 30 + np.random.normal(0, 15), 20, 500)\n",
    "        elif tech == 'Internet das Coisas (IoT)':\n",
    "            adocao = np.clip(10 + (ano - 2018) * 6 + np.random.normal(0, 2.5), 0, 100)\n",
    "            investimento = np.clip(120 + (ano - 2018) * 40 + np.random.normal(0, 18), 80, 700)\n",
    "        elif tech == '5G':\n",
    "            adocao = np.clip(1 + (ano - 2018) * 7 + np.random.normal(0, 2), 0, 100)\n",
    "            investimento = np.clip(80 + (ano - 2018) * 45 + np.random.normal(0, 20), 40, 750)\n",
    "\n",
    "        data.append([ano, tech, round(adocao, 2), round(investimento, 2)])\n",
    "\n",
    "df = pd.DataFrame(data, columns=['Ano', 'Tecnologia', 'Adoção_Percentual', 'Investimento_Milhoes'])"
   ]
  },
  {
   "cell_type": "code",
   "execution_count": 8,
   "id": "40f516ab-3687-49f9-ab4d-5b2236c3bdc7",
   "metadata": {},
   "outputs": [
    {
     "name": "stdout",
     "output_type": "stream",
     "text": [
      "Dados simulados salvos em: C:\\Users\\flavi\\Downloads\\Visualização_de_Dados_Interativa_ou_Data_Storytelling\\data\\simulated_data.csv\n"
     ]
    }
   ],
   "source": [
    "# Salva os dados simulados na pasta 'data'\n",
    "csv_path = os.path.join(DATA_DIR, 'simulated_data.csv')\n",
    "df.to_csv(csv_path, index=False)\n",
    "\n",
    "print(f\"Dados simulados salvos em: {csv_path}\")"
   ]
  },
  {
   "cell_type": "code",
   "execution_count": 9,
   "id": "9396461d-8db7-42a1-a4a3-d03195d6c1bb",
   "metadata": {},
   "outputs": [
    {
     "name": "stdout",
     "output_type": "stream",
     "text": [
      "\n",
      "Prévia dos dados:\n",
      "    Ano                    Tecnologia  Adoção_Percentual  Investimento_Milhoes\n",
      "0  2018  Inteligência Artificial (IA)               6.49                 97.23\n",
      "1  2018                    Blockchain               3.30                 72.85\n",
      "2  2018     Internet das Coisas (IoT)               9.41                115.79\n",
      "3  2018                            5G               4.16                 95.35\n",
      "4  2019  Inteligência Artificial (IA)              11.59                160.85\n",
      "\n",
      "\n"
     ]
    }
   ],
   "source": [
    "# Exibe as primeiras linhas do DataFrame\n",
    "print(\"\\nPrévia dos dados:\")\n",
    "print(df.head())\n",
    "print(\"\\n\")"
   ]
  },
  {
   "cell_type": "code",
   "execution_count": 10,
   "id": "c697a806-faa8-488b-8dd6-27bde3947fc7",
   "metadata": {},
   "outputs": [
    {
     "name": "stdout",
     "output_type": "stream",
     "text": [
      "Preparando animação...\n"
     ]
    }
   ],
   "source": [
    "# Preparação para Animação (Visualização de Adoção Percentual) \n",
    "print(\"Preparando animação...\")\n",
    "\n",
    "fig, ax = plt.subplots(figsize=(10, 6))\n",
    "colors = plt.cm.get_cmap('viridis', len(tecnologias)) # Paleta de cores\n",
    "\n",
    "plt.close()"
   ]
  },
  {
   "cell_type": "code",
   "execution_count": 11,
   "id": "d5d024ca-1e98-40c3-a112-96430d2dc7a1",
   "metadata": {},
   "outputs": [],
   "source": [
    "# Função que será chamada a cada frame da animação\n",
    "def update(frame):\n",
    "    ax.clear() # Limpa o frame anterior\n",
    "\n",
    "    current_year = anos[frame]\n",
    "    df_current_year = df[df['Ano'] == current_year].sort_values(by='Adoção_Percentual', ascending=True)\n",
    "\n",
    "    bars = ax.barh(df_current_year['Tecnologia'], df_current_year['Adoção_Percentual'], color=colors(range(len(tecnologias))))\n",
    "\n",
    "    ax.set_xlim(0, 100) # Percentual de 0 a 100\n",
    "    ax.set_title(f'Adoção de Tecnologias Emergentes - {current_year}', fontsize=16, pad=20)\n",
    "    ax.set_xlabel('Percentual de Adoção (%)', fontsize=12)\n",
    "    ax.set_ylabel('Tecnologia', fontsize=12)\n",
    "    ax.tick_params(axis='x', labelsize=10)\n",
    "    ax.tick_params(axis='y', labelsize=10)\n",
    "    ax.grid(axis='x', linestyle='--', alpha=0.7)\n",
    "\n",
    "    # Adiciona o valor do percentual em cada barra\n",
    "    for bar in bars:\n",
    "        width = bar.get_width()\n",
    "        ax.text(width + 2, bar.get_y() + bar.get_height()/2,\n",
    "                f'{width:.1f}%',\n",
    "                va='center', ha='left', fontsize=9, color='black')\n",
    "\n",
    "    # Adiciona uma marca de água ou texto de fonte\n",
    "    fig.text(0.95, 0.01, 'Fonte: Dados Simulados | LinkedIn: Seu Nome', ha='right', fontsize=8, color='gray', alpha=0.7)\n",
    "\n",
    "    return bars"
   ]
  },
  {
   "cell_type": "code",
   "execution_count": 12,
   "id": "080d5c2b-33c4-421d-b347-0ee9a6134aab",
   "metadata": {},
   "outputs": [
    {
     "name": "stdout",
     "output_type": "stream",
     "text": [
      "Gerando o arquivo GIF... isso pode levar alguns minutos.\n",
      "GIF salvo com sucesso em: C:\\Users\\flavi\\Downloads\\Visualização_de_Dados_Interativa_ou_Data_Storytelling\\media\\adocao_tecnologias_emergentes.gif\n",
      "Projeto concluído! Agora você pode postar seu GIF no LinkedIn.\n"
     ]
    }
   ],
   "source": [
    "# Geração do GIF \n",
    "print(\"Gerando o arquivo GIF... isso pode levar alguns minutos.\")\n",
    "\n",
    "# fps: frames por segundo. Mais fps = animação mais rápida e suave.\n",
    "# interval: atraso entre frames em ms.\n",
    "# save_count: número de frames a serem salvos. Usamos len(anos) para cobrir todos os anos.\n",
    "ani = animation.FuncAnimation(fig, update, frames=len(anos), blit=False, repeat=False, interval=1000)\n",
    "\n",
    "gif_path = os.path.join(MEDIA_DIR, 'adocao_tecnologias_emergentes.gif')\n",
    "ani.save(gif_path, writer='pillow', fps=1.5) \n",
    "\n",
    "print(f\"GIF salvo com sucesso em: {gif_path}\")\n",
    "print(\"Projeto concluído!)"
   ]
  }
 ],
 "metadata": {
  "kernelspec": {
   "display_name": "Python (base)",
   "language": "python",
   "name": "base"
  },
  "language_info": {
   "codemirror_mode": {
    "name": "ipython",
    "version": 3
   },
   "file_extension": ".py",
   "mimetype": "text/x-python",
   "name": "python",
   "nbconvert_exporter": "python",
   "pygments_lexer": "ipython3",
   "version": "3.12.3"
  }
 },
 "nbformat": 4,
 "nbformat_minor": 5
}
